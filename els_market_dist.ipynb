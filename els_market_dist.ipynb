{
 "cells": [
  {
   "cell_type": "markdown",
   "metadata": {},
   "source": [
    "# ELS시장분포\n",
    "- 시장전체 ELS 발행, 상환, 잔액에 대한 정보 조회\n",
    "- 행사가격 분포 조회 (TODO)\n",
    "- 현재 지수형 ELS에 대한 정보만 집계가능 (KP2, NKY, HSC, SXE, SPX, HSI)\n",
    "- 예탁원 데이터베이스를 기본정보로 하고 있으나 모든 정보를 100%가져오지는 못하고 있음 "
   ]
  },
  {
   "cell_type": "code",
   "execution_count": 1,
   "metadata": {},
   "outputs": [
    {
     "data": {
      "text/html": [
       "<style>.container { width:100% !important; }</style>"
      ],
      "text/plain": [
       "<IPython.core.display.HTML object>"
      ]
     },
     "metadata": {},
     "output_type": "display_data"
    }
   ],
   "source": [
    "import numpy as np\t\t\t\t\t\t\t\t\t\t\t\t\t\t\t\t#NUMPY\n",
    "import pandas as pd\t\t\t\t\t\t\t\t\t\t\t\t\t\t\t\t#PANDAS\n",
    "import els_market_dist as emd\t\t\t\t\t\t\t\t\t\t\t\t\t#ELS시장분포\n",
    "from ipywidgets import HBox, interact \t\t\t\t\t\t\t\t\t\t\t#WIDGET\n",
    "import ipywidgets as widgets\n",
    "from IPython.display import display, HTML\t\t\t\t\t\t\t\t\t\t#DISPLAY\n",
    "\n",
    "display(HTML(\"<style>.container { width:100% !important; }</style>\"))\t\t\t#SET WIDTH OF NOTEBOOK 100%\n",
    "market_dist = emd.MarketDist()\t\t\t\t\t\t\t\t\t\t\t\t\t#시장분포객체생성"
   ]
  },
  {
   "cell_type": "code",
   "execution_count": 2,
   "metadata": {},
   "outputs": [
    {
     "name": "stdout",
     "output_type": "stream",
     "text": [
      "ELS정보 기준일자\t: 2017-09-22\n",
      "지수레벨 기준일자\t: 2017-09-25\n",
      "지수레벨 정보\n",
      "\t* KP2\t: 316.4\n",
      "\t* NKY\t: 20397.58\n",
      "\t* HSC\t: 10912.46\n",
      "\t* SXE\t: 3537.81\n",
      "\t* SPX\t: 2496.66\n",
      "\t* HSI\t: 27500.34\n"
     ]
    }
   ],
   "source": [
    "print('ELS정보 기준일자\\t: ' + market_dist.last_date)\n",
    "print('지수레벨 기준일자\\t: ' + market_dist.index_date)\n",
    "print('지수레벨 정보')\n",
    "for idx_index, item_index in enumerate(market_dist.latest_index.columns.values):\n",
    "    print('\\t* ' + str(item_index) + '\\t: ' + str(market_dist.latest_index.iat[0,idx_index]))"
   ]
  },
  {
   "cell_type": "markdown",
   "metadata": {},
   "source": [
    "### 지수형ELS 월별 발행액, 상환액, 발행잔액\n",
    "* 작업구간은 데이터기준일자로부터 직전1년동안\n",
    "* 기초자산별로 조회가능"
   ]
  },
  {
   "cell_type": "code",
   "execution_count": 3,
   "metadata": {},
   "outputs": [],
   "source": [
    "monthly_amt_figures = market_dist.set_monthly_figure()\t\t\t\t\t\t\t#월간 발행금액,상환금액,발행잔액 그래프 설정"
   ]
  },
  {
   "cell_type": "code",
   "execution_count": 4,
   "metadata": {},
   "outputs": [],
   "source": [
    "exercise_figures = market_dist.set_exercise_figure()\t\t\t\t\t\t\t#일간 행사가격분포 그래프 설정"
   ]
  },
  {
   "cell_type": "code",
   "execution_count": 5,
   "metadata": {},
   "outputs": [
    {
     "data": {
      "application/vnd.jupyter.widget-view+json": {
       "model_id": "09d794e106ff41c1970506e31bdaa385"
      }
     },
     "metadata": {},
     "output_type": "display_data"
    }
   ],
   "source": [
    "def on_change_monthly(기초자산):\t\t\t\t\t\t\t\t\t\t\t\t#드롭다운메뉴로 원하는 기초자산 설정\n",
    "    fig = monthly_amt_figures.get(str(기초자산)+'YES')\n",
    "    display(fig[3])\n",
    "\n",
    "interact(on_change_monthly, 기초자산=market_dist._LIST_INDEX);"
   ]
  },
  {
   "cell_type": "code",
   "execution_count": 6,
   "metadata": {},
   "outputs": [
    {
     "data": {
      "application/vnd.jupyter.widget-view+json": {
       "model_id": "2a212fddedcb43a39a1770dead836f83"
      }
     },
     "metadata": {},
     "output_type": "display_data"
    }
   ],
   "source": [
    "def on_change_exercise(기초자산):\t\t\t\t\t\t\t\t\t\t\t\t#드롭다운메뉴로 원하는 기초자산 설정\n",
    "    fig = exercise_figures.get(str(기초자산))\n",
    "    display(fig[0])\n",
    "\n",
    "interact(on_change_exercise, 기초자산=market_dist._LIST_INDEX[1:]);"
   ]
  },
  {
   "cell_type": "code",
   "execution_count": null,
   "metadata": {
    "collapsed": true
   },
   "outputs": [],
   "source": []
  },
  {
   "cell_type": "code",
   "execution_count": null,
   "metadata": {
    "collapsed": true
   },
   "outputs": [],
   "source": []
  },
  {
   "cell_type": "code",
   "execution_count": null,
   "metadata": {
    "collapsed": true
   },
   "outputs": [],
   "source": []
  },
  {
   "cell_type": "code",
   "execution_count": null,
   "metadata": {
    "collapsed": true
   },
   "outputs": [],
   "source": []
  },
  {
   "cell_type": "code",
   "execution_count": null,
   "metadata": {
    "collapsed": true
   },
   "outputs": [],
   "source": []
  },
  {
   "cell_type": "code",
   "execution_count": null,
   "metadata": {
    "collapsed": true
   },
   "outputs": [],
   "source": []
  },
  {
   "cell_type": "code",
   "execution_count": null,
   "metadata": {
    "collapsed": true
   },
   "outputs": [],
   "source": []
  },
  {
   "cell_type": "code",
   "execution_count": null,
   "metadata": {
    "collapsed": true
   },
   "outputs": [],
   "source": []
  },
  {
   "cell_type": "code",
   "execution_count": null,
   "metadata": {
    "collapsed": true
   },
   "outputs": [],
   "source": []
  },
  {
   "cell_type": "code",
   "execution_count": null,
   "metadata": {
    "collapsed": true
   },
   "outputs": [],
   "source": []
  },
  {
   "cell_type": "code",
   "execution_count": null,
   "metadata": {
    "collapsed": true
   },
   "outputs": [],
   "source": []
  },
  {
   "cell_type": "code",
   "execution_count": null,
   "metadata": {
    "collapsed": true
   },
   "outputs": [],
   "source": []
  },
  {
   "cell_type": "code",
   "execution_count": null,
   "metadata": {
    "collapsed": true
   },
   "outputs": [],
   "source": []
  },
  {
   "cell_type": "code",
   "execution_count": null,
   "metadata": {
    "collapsed": true
   },
   "outputs": [],
   "source": []
  },
  {
   "cell_type": "code",
   "execution_count": null,
   "metadata": {
    "collapsed": true
   },
   "outputs": [],
   "source": []
  },
  {
   "cell_type": "code",
   "execution_count": null,
   "metadata": {
    "collapsed": true
   },
   "outputs": [],
   "source": []
  },
  {
   "cell_type": "code",
   "execution_count": null,
   "metadata": {
    "collapsed": true
   },
   "outputs": [],
   "source": []
  },
  {
   "cell_type": "code",
   "execution_count": null,
   "metadata": {
    "collapsed": true
   },
   "outputs": [],
   "source": []
  },
  {
   "cell_type": "code",
   "execution_count": null,
   "metadata": {
    "collapsed": true
   },
   "outputs": [],
   "source": []
  },
  {
   "cell_type": "code",
   "execution_count": null,
   "metadata": {
    "collapsed": true
   },
   "outputs": [],
   "source": []
  },
  {
   "cell_type": "code",
   "execution_count": null,
   "metadata": {
    "collapsed": true
   },
   "outputs": [],
   "source": []
  },
  {
   "cell_type": "code",
   "execution_count": null,
   "metadata": {
    "collapsed": true
   },
   "outputs": [],
   "source": []
  }
 ],
 "metadata": {
  "kernelspec": {
   "display_name": "Python 3",
   "language": "python",
   "name": "python3"
  },
  "language_info": {
   "codemirror_mode": {
    "name": "ipython",
    "version": 3
   },
   "file_extension": ".py",
   "mimetype": "text/x-python",
   "name": "python",
   "nbconvert_exporter": "python",
   "pygments_lexer": "ipython3",
   "version": "3.6.1"
  },
  "widgets": {
   "state": {
    "7336b53184e44820938ec1d05b997e30": {
     "views": [
      {
       "cell_index": 7
      }
     ]
    },
    "935079382ba247d69dce4b78f55f409e": {
     "views": [
      {
       "cell_index": 6
      }
     ]
    }
   },
   "version": "1.2.0"
  }
 },
 "nbformat": 4,
 "nbformat_minor": 1
}
