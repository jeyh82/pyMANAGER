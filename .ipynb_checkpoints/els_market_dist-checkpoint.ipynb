{
 "cells": [
  {
   "cell_type": "code",
   "execution_count": 1,
   "metadata": {
    "collapsed": false
   },
   "outputs": [],
   "source": [
    "%matplotlib inline"
   ]
  },
  {
   "cell_type": "code",
   "execution_count": 2,
   "metadata": {
    "collapsed": false
   },
   "outputs": [],
   "source": [
    "import seaborn as sns                                 # graphic module\n",
    "import pandas as pd                                   # panel data module\n",
    "import els_market_dist as emd                         # ELS market distribution\n",
    "market_dist = emd.MarketDist()                        "
   ]
  },
  {
   "cell_type": "markdown",
   "metadata": {},
   "source": [
    "# ELS시장분포\n",
    "- 시장전체 ELS 발행, 상환, 잔액에 대한 정보 조회\n",
    "- 현재 지수형 ELS에 대한 정보만 집계가능 (KP2, NKY, HSC, HSI, SXE, SPX)\n",
    "- 원금보장형에 대한 정보는 제외하고, 원금비보장형에 대한 데이터만 집계\n",
    "- 예탁원 데이터베이스를 기본정보로 하고 있으나 모든 정보를 100%가져오지는 못하고 있음 "
   ]
  },
  {
   "cell_type": "code",
   "execution_count": 3,
   "metadata": {
    "collapsed": false
   },
   "outputs": [
    {
     "name": "stdout",
     "output_type": "stream",
     "text": [
      "데이터기준일자: 2017-08-29\n"
     ]
    }
   ],
   "source": [
    "print('데이터기준일자: ' + market_dist.eval_date)"
   ]
  },
  {
   "cell_type": "markdown",
   "metadata": {},
   "source": [
    "## 지수형ELS 월별 발행액 "
   ]
  },
  {
   "cell_type": "code",
   "execution_count": 4,
   "metadata": {
    "collapsed": false
   },
   "outputs": [
    {
     "name": "stdout",
     "output_type": "stream",
     "text": [
      "        EOMONTH     ISSUE  EXERCISE    ACTIVE\n",
      "Jan  2017-01-31     17167 -10319990  71869337\n",
      "Feb  2017-02-28     89976 -10825861  65741094\n",
      "Mar  2017-03-31   3660092  -9073861  56707834\n",
      "Apr  2017-04-30   3296460  -3471882  53253962\n",
      "May  2017-05-31   2957529  -3775069  49671334\n",
      "Jun  2017-06-30   4396045  -3129136  46833580\n",
      "Jul  2017-07-31  10174155  -6075618  44151432\n",
      "Aug  2017-08-31  10764564  -5368684  43756512\n",
      "Sep  2017-09-30         0         0         0\n",
      "Oct  2017-10-31         0         0         0\n",
      "Nov  2017-11-30         0         0         0\n",
      "Dec  2017-12-31         0         0         0\n"
     ]
    }
   ],
   "source": [
    "monthly_report = market_dist.get_monthly_report()\n",
    "print(monthly_report)"
   ]
  },
  {
   "cell_type": "code",
   "execution_count": 45,
   "metadata": {
    "collapsed": false
   },
   "outputs": [
    {
     "data": {
      "text/plain": [
       "<matplotlib.axes._subplots.AxesSubplot at 0x11358a50>"
      ]
     },
     "execution_count": 45,
     "metadata": {},
     "output_type": "execute_result"
    },
    {
     "data": {
      "image/png": "[encoded data removed]",
      "text/plain": [
       "<matplotlib.figure.Figure at 0x112ef030>"
      ]
     },
     "metadata": {},
     "output_type": "display_data"
    }
   ],
   "source": [
    "sns.set(style='whitegrid',context='talk')\n",
    "\n",
    "ax = sns.barplot(\n",
    "    monthly_report.index, \n",
    "    monthly_report['ISSUE'],\n",
    "    palette=sns.color_palette('OrRd',12)\n",
    ")\n",
    "sns.barplot(\n",
    "    monthly_report.index, \n",
    "    monthly_report['EXERCISE'],\n",
    "    palette=sns.color_palette('GnBu',12), \n",
    "    ax=ax\n",
    ")\n"
   ]
  },
  {
   "cell_type": "code",
   "execution_count": 30,
   "metadata": {
    "collapsed": false
   },
   "outputs": [
    {
     "data": {
      "image/png": "[encoded data removed]",
      "text/plain": [
       "<matplotlib.figure.Figure at 0xeb516b0>"
      ]
     },
     "metadata": {},
     "output_type": "display_data"
    }
   ],
   "source": [
    "sns.palplot(sns.color_palette(\"Blues\"))"
   ]
  },
  {
   "cell_type": "code",
   "execution_count": 31,
   "metadata": {
    "collapsed": false
   },
   "outputs": [
    {
     "data": {
      "image/png": "[encoded data removed]",
      "text/plain": [
       "<matplotlib.figure.Figure at 0xf32f070>"
      ]
     },
     "metadata": {},
     "output_type": "display_data"
    }
   ],
   "source": [
    "sns.palplot(sns.color_palette(\"Greens\"))"
   ]
  },
  {
   "cell_type": "code",
   "execution_count": 32,
   "metadata": {
    "collapsed": false
   },
   "outputs": [
    {
     "data": {
      "image/png": "[encoded data removed]",
      "text/plain": [
       "<matplotlib.figure.Figure at 0xf389470>"
      ]
     },
     "metadata": {},
     "output_type": "display_data"
    }
   ],
   "source": [
    "sns.palplot(sns.color_palette(\"Reds\"))"
   ]
  },
  {
   "cell_type": "code",
   "execution_count": null,
   "metadata": {
    "collapsed": true
   },
   "outputs": [],
   "source": []
  }
 ],
 "metadata": {
  "kernelspec": {
   "display_name": "Python 3",
   "language": "python",
   "name": "python3"
  },
  "language_info": {
   "codemirror_mode": {
    "name": "ipython",
    "version": 3
   },
   "file_extension": ".py",
   "mimetype": "text/x-python",
   "name": "python",
   "nbconvert_exporter": "python",
   "pygments_lexer": "ipython3",
   "version": "3.4.5"
  }
 },
 "nbformat": 4,
 "nbformat_minor": 0
}
